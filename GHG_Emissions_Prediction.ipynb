{
 "cells": [
  {
   "cell_type": "markdown",
   "id": "32efb7ab",
   "metadata": {},
   "source": [
    "# Supply Chain Emissions Modeling Using Industry and Commodity Data (2010–2016)"
   ]
  },
  {
   "cell_type": "markdown",
   "id": "a7c1c6fc",
   "metadata": {},
   "source": [
    "Problem Statement:\n",
    "\n",
    "You have annual supply chain emission data from 2010–2016 categorized into industries and commodities. The goal is to develop a regression model that can predict the Supply Chain Emission Factors with Margins based on descriptive and quality metrics (substance, unit, reliability, temporal/geographical/technological/data collection correlations, etc.)."
   ]
  },
  {
   "cell_type": "markdown",
   "id": "0eae1c80",
   "metadata": {},
   "source": [
    "# 🌱 Greenhouse Gas Emission Prediction Project\n",
    "\n",
    "![GHG Emissions](https://www.shalom-education.com/wp-content/uploads/2022/12/Shutterstock_1667551381-1-1024x1006.jpg)\n",
    "\n",
    "**Project Goal:**  \n",
    "To analyze and predict greenhouse gas (GHG) emissions from various U.S. industries and commodities using the official dataset from [data.gov](https://catalog.data.gov/dataset/supply-chain-greenhouse-gas-emission-factors-for-us-industries-and-commodities).\n",
    "\n",
    "![GHG Emissions](https://edg.epa.gov/EPALogo.svg)\n",
    "\n",
    "**Source:**  \n",
    "[Supply Chain Greenhouse Gas Emission Factors](https://catalog.data.gov/dataset/supply-chain-greenhouse-gas-emission-factors-for-us-industries-and-commodities)\n",
    "\n",
    "  \n",
    "**Tools:** Python, Pandas, Scikit-learn, Matplotlib, Seaborn  \n"
   ]
  },
  {
   "cell_type": "markdown",
   "id": "d2cc9ed5",
   "metadata": {},
   "source": [
    "## 📂 Dataset Overview\n",
    "\n",
    "This dataset contains supply chain emission factors associated with various U.S. industries and commodities.\n",
    "\n",
    "**Key Columns:**\n",
    "- `Code`: Industry classification code\n",
    "- `Industry_Name`: Name of the industry\n",
    "- `Commodity`: Item or commodity name\n",
    "- `GHG_Emissions_kgCO2e`: GHG emissions per unit (kg CO2 equivalent)\n",
    "- `Units`: Measurement units (e.g., [kg/2018 USD, purchaser price])\n",
    "\n"
   ]
  },
  {
   "cell_type": "markdown",
   "id": "409dc066",
   "metadata": {},
   "source": [
    "## 🧹 Data Preprocessing\n",
    "\n",
    "Steps:\n",
    "- Handle missing values\n",
    "- Convert units where needed\n",
    "- Encode categorical features\n",
    "- Normalize/scale numeric columns\n",
    "\n",
    "## 🤖 Model Building & Evaluation\n",
    "\n",
    "We aim to predict `GHG_Emissions_kgCO2e` using regression models.\n",
    "\n",
    "Models to try:\n",
    "- Linear Regression\n",
    "- Random Forest\n",
    "\n",
    "**Evaluation Metrics:**\n",
    "- RMSE (Root Mean Squared Error)\n",
    "- MAE (Mean Absolute Error)\n",
    "- R² Score\n"
   ]
  },
  {
   "cell_type": "markdown",
   "id": "c2558455",
   "metadata": {},
   "source": [
    "##### Steps:\n",
    "- Step 1: Import Required Libraries\n",
    "- Step 2: Load Dataset\n",
    "- Step 3: Data Preprocessing (EDA+Cleaning+Encoding)\n",
    "- Step 4: Training\n",
    "- Step 5: Prediction and Evaluation\n",
    "- Step 6: Hyperparameter Tuning\n",
    "- Step 7: Comapartive Study and Slecting the Best model \n"
   ]
  },
  {
   "cell_type": "markdown",
   "id": "118424af",
   "metadata": {},
   "source": [
    "# Step 1: Import Required Libraries"
   ]
  },
  {
   "cell_type": "code",
   "execution_count": 1,
   "id": "a2e58624",
   "metadata": {},
   "outputs": [],
   "source": [
    "\n",
    "import pandas as pd\n",
    "import numpy as np\n",
    "import seaborn as sns\n",
    "import matplotlib.pyplot as plt\n",
    "\n",
    "from sklearn.model_selection import train_test_split, GridSearchCV\n",
    "from sklearn.preprocessing import StandardScaler\n",
    "from sklearn.ensemble import RandomForestRegressor\n",
    "from sklearn.metrics import mean_squared_error, r2_score\n",
    "import joblib\n"
   ]
  },
  {
   "cell_type": "markdown",
   "id": "c670b39a",
   "metadata": {},
   "source": [
    "# Step 2: Load Dataset"
   ]
  },
  {
   "cell_type": "code",
   "execution_count": 2,
   "id": "3d7223e5",
   "metadata": {},
   "outputs": [],
   "source": [
    "\n",
    "excel_file = 'SupplyChainEmissionFactorsforUSIndustriesCommodities.xlsx'  # Replace with actual path\n",
    "years = range(2010, 2017)"
   ]
  },
  {
   "cell_type": "markdown",
   "id": "b569d159",
   "metadata": {},
   "source": []
  },
  {
   "cell_type": "code",
   "execution_count": 3,
   "id": "aba2c82e",
   "metadata": {},
   "outputs": [
    {
     "data": {
      "text/plain": [
       "2012"
      ]
     },
     "execution_count": 3,
     "metadata": {},
     "output_type": "execute_result"
    }
   ],
   "source": [
    "years[2]"
   ]
  },
  {
   "cell_type": "code",
   "execution_count": 4,
   "id": "3739f73a",
   "metadata": {},
   "outputs": [
    {
     "name": "stdout",
     "output_type": "stream",
     "text": [
      "['Cover', 'Contents', 'Data Dictionary', 'Sources', 'LCIA Factors of Other GHGs', '2016_Summary_Commodity', '2015_Summary_Commodity', '2014_Summary_Commodity', '2013_Summary_Commodity', '2012_Summary_Commodity', '2011_Summary_Commodity', '2010_Summary_Commodity', '2016_Summary_Industry', '2015_Summary_Industry', '2014_Summary_Industry', '2013_Summary_Industry', '2012_Summary_Industry', '2011_Summary_Industry', '2010_Summary_Industry', '2016_Detail_Commodity', '2015_Detail_Commodity', '2014_Detail_Commodity', '2013_Detail_Commodity', '2012_Detail_Commodity', '2011_Detail_Commodity', '2010_Detail_Commodity', '2016_Detail_Industry', '2015_Detail_Industry', '2014_Detail_Industry', '2013_Detail_Industry', '2012_Detail_Industry', '2011_Detail_Industry', '2010_Detail_Industry', 'Sheet1']\n"
     ]
    },
    {
     "data": {
      "text/html": [
       "<div>\n",
       "<style scoped>\n",
       "    .dataframe tbody tr th:only-of-type {\n",
       "        vertical-align: middle;\n",
       "    }\n",
       "\n",
       "    .dataframe tbody tr th {\n",
       "        vertical-align: top;\n",
       "    }\n",
       "\n",
       "    .dataframe thead th {\n",
       "        text-align: right;\n",
       "    }\n",
       "</style>\n",
       "<table border=\"1\" class=\"dataframe\">\n",
       "  <thead>\n",
       "    <tr style=\"text-align: right;\">\n",
       "      <th></th>\n",
       "      <th>Commodity Code</th>\n",
       "      <th>Commodity Name</th>\n",
       "      <th>Substance</th>\n",
       "      <th>Unit</th>\n",
       "      <th>Supply Chain Emission Factors without Margins</th>\n",
       "      <th>Margins of Supply Chain Emission Factors</th>\n",
       "      <th>Supply Chain Emission Factors with Margins</th>\n",
       "      <th>Unnamed: 7</th>\n",
       "      <th>DQ ReliabilityScore of Factors without Margins</th>\n",
       "      <th>DQ TemporalCorrelation of Factors without Margins</th>\n",
       "      <th>DQ GeographicalCorrelation of Factors without Margins</th>\n",
       "      <th>DQ TechnologicalCorrelation of Factors without Margins</th>\n",
       "      <th>DQ DataCollection of Factors without Margins</th>\n",
       "    </tr>\n",
       "  </thead>\n",
       "  <tbody>\n",
       "    <tr>\n",
       "      <th>0</th>\n",
       "      <td>1111A0</td>\n",
       "      <td>Fresh soybeans, canola, flaxseeds, and other o...</td>\n",
       "      <td>carbon dioxide</td>\n",
       "      <td>kg/2018 USD, purchaser price</td>\n",
       "      <td>0.354</td>\n",
       "      <td>0.063</td>\n",
       "      <td>0.417</td>\n",
       "      <td>NaN</td>\n",
       "      <td>3</td>\n",
       "      <td>2</td>\n",
       "      <td>1</td>\n",
       "      <td>4</td>\n",
       "      <td>1</td>\n",
       "    </tr>\n",
       "    <tr>\n",
       "      <th>1</th>\n",
       "      <td>1111A0</td>\n",
       "      <td>Fresh soybeans, canola, flaxseeds, and other o...</td>\n",
       "      <td>methane</td>\n",
       "      <td>kg/2018 USD, purchaser price</td>\n",
       "      <td>0.001</td>\n",
       "      <td>0.001</td>\n",
       "      <td>0.002</td>\n",
       "      <td>NaN</td>\n",
       "      <td>4</td>\n",
       "      <td>2</td>\n",
       "      <td>1</td>\n",
       "      <td>1</td>\n",
       "      <td>1</td>\n",
       "    </tr>\n",
       "    <tr>\n",
       "      <th>2</th>\n",
       "      <td>1111A0</td>\n",
       "      <td>Fresh soybeans, canola, flaxseeds, and other o...</td>\n",
       "      <td>nitrous oxide</td>\n",
       "      <td>kg/2018 USD, purchaser price</td>\n",
       "      <td>0.002</td>\n",
       "      <td>0.000</td>\n",
       "      <td>0.002</td>\n",
       "      <td>NaN</td>\n",
       "      <td>4</td>\n",
       "      <td>2</td>\n",
       "      <td>1</td>\n",
       "      <td>4</td>\n",
       "      <td>1</td>\n",
       "    </tr>\n",
       "    <tr>\n",
       "      <th>3</th>\n",
       "      <td>1111A0</td>\n",
       "      <td>Fresh soybeans, canola, flaxseeds, and other o...</td>\n",
       "      <td>other GHGs</td>\n",
       "      <td>kg CO2e/2018 USD, purchaser price</td>\n",
       "      <td>0.003</td>\n",
       "      <td>0.000</td>\n",
       "      <td>0.003</td>\n",
       "      <td>NaN</td>\n",
       "      <td>3</td>\n",
       "      <td>2</td>\n",
       "      <td>1</td>\n",
       "      <td>4</td>\n",
       "      <td>1</td>\n",
       "    </tr>\n",
       "    <tr>\n",
       "      <th>4</th>\n",
       "      <td>1111B0</td>\n",
       "      <td>Fresh wheat, corn, rice, and other grains</td>\n",
       "      <td>carbon dioxide</td>\n",
       "      <td>kg/2018 USD, purchaser price</td>\n",
       "      <td>0.659</td>\n",
       "      <td>0.069</td>\n",
       "      <td>0.728</td>\n",
       "      <td>NaN</td>\n",
       "      <td>4</td>\n",
       "      <td>2</td>\n",
       "      <td>1</td>\n",
       "      <td>4</td>\n",
       "      <td>1</td>\n",
       "    </tr>\n",
       "  </tbody>\n",
       "</table>\n",
       "</div>"
      ],
      "text/plain": [
       "  Commodity Code                                     Commodity Name  \\\n",
       "0         1111A0  Fresh soybeans, canola, flaxseeds, and other o...   \n",
       "1         1111A0  Fresh soybeans, canola, flaxseeds, and other o...   \n",
       "2         1111A0  Fresh soybeans, canola, flaxseeds, and other o...   \n",
       "3         1111A0  Fresh soybeans, canola, flaxseeds, and other o...   \n",
       "4         1111B0          Fresh wheat, corn, rice, and other grains   \n",
       "\n",
       "        Substance                               Unit  \\\n",
       "0  carbon dioxide       kg/2018 USD, purchaser price   \n",
       "1         methane       kg/2018 USD, purchaser price   \n",
       "2   nitrous oxide       kg/2018 USD, purchaser price   \n",
       "3      other GHGs  kg CO2e/2018 USD, purchaser price   \n",
       "4  carbon dioxide       kg/2018 USD, purchaser price   \n",
       "\n",
       "   Supply Chain Emission Factors without Margins  \\\n",
       "0                                          0.354   \n",
       "1                                          0.001   \n",
       "2                                          0.002   \n",
       "3                                          0.003   \n",
       "4                                          0.659   \n",
       "\n",
       "   Margins of Supply Chain Emission Factors  \\\n",
       "0                                     0.063   \n",
       "1                                     0.001   \n",
       "2                                     0.000   \n",
       "3                                     0.000   \n",
       "4                                     0.069   \n",
       "\n",
       "   Supply Chain Emission Factors with Margins  Unnamed: 7  \\\n",
       "0                                       0.417         NaN   \n",
       "1                                       0.002         NaN   \n",
       "2                                       0.002         NaN   \n",
       "3                                       0.003         NaN   \n",
       "4                                       0.728         NaN   \n",
       "\n",
       "   DQ ReliabilityScore of Factors without Margins  \\\n",
       "0                                               3   \n",
       "1                                               4   \n",
       "2                                               4   \n",
       "3                                               3   \n",
       "4                                               4   \n",
       "\n",
       "   DQ TemporalCorrelation of Factors without Margins  \\\n",
       "0                                                  2   \n",
       "1                                                  2   \n",
       "2                                                  2   \n",
       "3                                                  2   \n",
       "4                                                  2   \n",
       "\n",
       "   DQ GeographicalCorrelation of Factors without Margins  \\\n",
       "0                                                  1       \n",
       "1                                                  1       \n",
       "2                                                  1       \n",
       "3                                                  1       \n",
       "4                                                  1       \n",
       "\n",
       "   DQ TechnologicalCorrelation of Factors without Margins  \\\n",
       "0                                                  4        \n",
       "1                                                  1        \n",
       "2                                                  4        \n",
       "3                                                  4        \n",
       "4                                                  4        \n",
       "\n",
       "   DQ DataCollection of Factors without Margins  \n",
       "0                                             1  \n",
       "1                                             1  \n",
       "2                                             1  \n",
       "3                                             1  \n",
       "4                                             1  "
      ]
     },
     "execution_count": 4,
     "metadata": {},
     "output_type": "execute_result"
    }
   ],
   "source": [
    "import pandas as pd\n",
    "xls = pd.ExcelFile(r\"C:/Users/HP/Downloads/SupplyChainEmissionFactorsforUSIndustriesCommodities (1).xlsx\")\n",
    "print(xls.sheet_names)\n",
    "df_1 = pd.read_excel(r\"C:/Users/HP/Downloads/SupplyChainEmissionFactorsforUSIndustriesCommodities (1).xlsx\")\n",
    "excel_file = r\"C:/Users/HP/Downloads/SupplyChainEmissionFactorsforUSIndustriesCommodities (1).xlsx\"\n",
    "years = [2015, 2016]\n",
    "\n",
    "df_1 = pd.read_excel(excel_file, sheet_name=f'{years[0]}_Detail_Commodity')\n",
    "df_1.head()\n"
   ]
  },
  {
   "cell_type": "code",
   "execution_count": null,
   "id": "b3da39b5",
   "metadata": {},
   "outputs": [],
   "source": [
    "df_2 = pd.read_excel(excel_file, sheet_name=f'{years[0]}_Detail_Industry')\n",
    "df_2.head()"
   ]
  },
  {
   "cell_type": "code",
   "execution_count": null,
   "id": "464213c7",
   "metadata": {},
   "outputs": [],
   "source": [
    "all_data = []\n",
    "\n",
    "for year in years:\n",
    "    try:\n",
    "        df_com = pd.read_excel(excel_file, sheet_name=f'{year}_Detail_Commodity')\n",
    "        df_ind = pd.read_excel(excel_file, sheet_name=f'{year}_Detail_Industry')\n",
    "        \n",
    "        df_com['Source'] = 'Commodity'\n",
    "        df_ind['Source'] = 'Industry'\n",
    "        df_com['Year'] = df_ind['Year'] = year\n",
    "        \n",
    "        df_com.columns = df_com.columns.str.strip()\n",
    "        df_ind.columns = df_ind.columns.str.strip()\n",
    "\n",
    "        df_com.rename(columns={\n",
    "            'Commodity Code': 'Code',\n",
    "            'Commodity Name': 'Name'\n",
    "        }, inplace=True)\n",
    "        \n",
    "        df_ind.rename(columns={\n",
    "            'Industry Code': 'Code',\n",
    "            'Industry Name': 'Name'\n",
    "        }, inplace=True)\n",
    "        \n",
    "        all_data.append(pd.concat([df_com, df_ind], ignore_index=True))\n",
    "        \n",
    "    except Exception as e:\n",
    "        print(f\"Error processing year {year}: {e}\")"
   ]
  },
  {
   "cell_type": "code",
   "execution_count": null,
   "id": "4079554d-36f7-4163-b1af-f8fddcdc1c65",
   "metadata": {},
   "outputs": [],
   "source": [
    "all_data[-1]"
   ]
  },
  {
   "cell_type": "code",
   "execution_count": null,
   "id": "a4ddac28",
   "metadata": {},
   "outputs": [],
   "source": [
    "len(all_data)"
   ]
  },
  {
   "cell_type": "code",
   "execution_count": null,
   "id": "d99bcf77",
   "metadata": {},
   "outputs": [],
   "source": [
    "df = pd.concat(all_data, ignore_index=True)\n",
    "df.head(10)"
   ]
  },
  {
   "cell_type": "code",
   "execution_count": null,
   "id": "333b762c",
   "metadata": {},
   "outputs": [],
   "source": [
    "len(df)"
   ]
  },
  {
   "cell_type": "markdown",
   "id": "12443c98",
   "metadata": {},
   "source": [
    "# Step 3: Data Preprocessing"
   ]
  },
  {
   "cell_type": "code",
   "execution_count": null,
   "id": "0912c587",
   "metadata": {},
   "outputs": [],
   "source": [
    "df.columns # Checking columns"
   ]
  },
  {
   "cell_type": "code",
   "execution_count": null,
   "id": "3e9957db",
   "metadata": {},
   "outputs": [],
   "source": [
    "df.isnull().sum()"
   ]
  }
 ],
 "metadata": {
  "kernelspec": {
   "display_name": "Python 3",
   "language": "python",
   "name": "python3"
  },
  "language_info": {
   "codemirror_mode": {
    "name": "ipython",
    "version": 3
   },
   "file_extension": ".py",
   "mimetype": "text/x-python",
   "name": "python",
   "nbconvert_exporter": "python",
   "pygments_lexer": "ipython3",
   "version": "3.13.5"
  }
 },
 "nbformat": 4,
 "nbformat_minor": 5
}
